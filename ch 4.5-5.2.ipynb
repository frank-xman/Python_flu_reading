{
 "cells": [
  {
   "cell_type": "markdown",
   "metadata": {},
   "source": [
    "## 4.5处理文本文件\n",
    ">bytes->str 输入字节序列\n",
    "\n",
    ">处理文本\n",
    "\n",
    ">str->bytes 编码输出文本"
   ]
  },
  {
   "cell_type": "code",
   "execution_count": 4,
   "metadata": {},
   "outputs": [
    {
     "name": "stdout",
     "output_type": "stream",
     "text": [
      "b'\\xe5\\x93\\x88\\xe5\\x93\\x88'\n",
      "b'\\xb9\\xfe\\xb9\\xfe'\n",
      "哈哈\n",
      "哈哈\n"
     ]
    }
   ],
   "source": [
    "\n",
    "a = \"哈哈\"#str\n",
    "#str->byte 编码输出文本\n",
    "b = bytes(a,encoding='utf-8')\n",
    "print(b)\n",
    "\n",
    "b1 = bytes(a,encoding='gbk')\n",
    "print(b1)\n",
    "\n",
    "\n",
    "#bytes->str 输入字节序列\n",
    "\n",
    "c=str(b,encoding='utf-8')\n",
    "print(c)\n",
    "\n",
    "c1=str(b1,encoding='gbk')\n",
    "print(c1)\n",
    "\n",
    "\n",
    "\n"
   ]
  },
  {
   "cell_type": "markdown",
   "metadata": {},
   "source": [
    "### 编码默认值\n",
    "\n",
    "    import sys,locale\n",
    "    expressions=\"\"\"\n",
    "        locale.getpreferredencoding()#每台机器不一样,或者和四系统原因\n",
    "        type(my_file)\n",
    "        my_file.encoding\n",
    "        sys.stdout.isatty()\n",
    "        sys.stdout.encoding\n",
    "        sys.stdin.isatty()\n",
    "        sys.stdin.encoding\n",
    "        sys.stderr.isatty()\n",
    "        sys.stderr.encoding\n",
    "        sys.getdefaultencoding()\n",
    "        sys.getfilesystemencoding()\n",
    "        \"\"\"\n",
    "    #isatty() 方法检测文件是否连接到一个终端设备，如果是返回 True，否则返回 False。 \n",
    "    my_file=open('dummy','w')\n",
    "    for expression in expressions.split():\n",
    "        value=eval(expression)\n",
    "        print(expression.ljust(40),'->',repr(value).rjust(40))\n"
   ]
  },
  {
   "cell_type": "code",
   "execution_count": 17,
   "metadata": {},
   "outputs": [
    {
     "name": "stdout",
     "output_type": "stream",
     "text": [
      "locale.getpreferredencoding()            ->                                  'UTF-8'\r\n",
      "type(my_file)                            ->              <class '_io.TextIOWrapper'>\r\n",
      "my_file.encoding                         ->                                  'UTF-8'\r\n",
      "sys.stdout.isatty()                      ->                                     True\r\n",
      "sys.stdout.encoding                      ->                                  'UTF-8'\r\n",
      "sys.stdin.isatty()                       ->                                     True\r\n",
      "sys.stdin.encoding                       ->                                  'UTF-8'\r\n",
      "sys.stderr.isatty()                      ->                                     True\r\n",
      "sys.stderr.encoding                      ->                                  'UTF-8'\r\n",
      "sys.getdefaultencoding()                 ->                                  'utf-8'\r\n",
      "sys.getfilesystemencoding()              ->                                  'utf-8'\r\n"
     ]
    }
   ],
   "source": [
    "!python default_encodings.py"
   ]
  },
  {
   "cell_type": "markdown",
   "metadata": {},
   "source": [
    "## 文本规范化\n",
    "\n",
    "### 对于ascii来说会简单一些,但是对于unicode会很复杂"
   ]
  },
  {
   "cell_type": "markdown",
   "metadata": {},
   "source": [
    "___书上写的不太一样,s1==s2,书上为false,但是运行出来为TRUE___\n",
    "\n",
    "    s1='cafe\\u0301'\n",
    "    s2='café'\n",
    "    s1,s2\n",
    "    \n",
    "## 书中的解决方案为如下"
   ]
  },
  {
   "cell_type": "code",
   "execution_count": 24,
   "metadata": {},
   "outputs": [
    {
     "data": {
      "text/plain": [
       "(4, 4)"
      ]
     },
     "execution_count": 24,
     "metadata": {},
     "output_type": "execute_result"
    }
   ],
   "source": [
    "from unicodedata import normalize\n",
    "len(normalize('NFC',s1)),len(normalize('NFC',s2))\n"
   ]
  },
  {
   "cell_type": "markdown",
   "metadata": {},
   "source": [
    "### 为了保险期间,最好在保存文本之前就使用 Normalize('NFC',user_test) 进行数据清洗\n",
    "\n",
    "> ### 使用了DFC 时,有些但字符会被规范成另一种单字副,例如电阻的单位,"
   ]
  },
  {
   "cell_type": "code",
   "execution_count": 25,
   "metadata": {},
   "outputs": [
    {
     "data": {
      "text/plain": [
       "'OHM SIGN'"
      ]
     },
     "execution_count": 25,
     "metadata": {},
     "output_type": "execute_result"
    }
   ],
   "source": [
    "from unicodedata import normalize ,name\n",
    "ohm='\\u2126'\n",
    "name(ohm)"
   ]
  },
  {
   "cell_type": "code",
   "execution_count": 26,
   "metadata": {},
   "outputs": [
    {
     "data": {
      "text/plain": [
       "'GREEK CAPITAL LETTER OMEGA'"
      ]
     },
     "execution_count": 26,
     "metadata": {},
     "output_type": "execute_result"
    }
   ],
   "source": [
    "ohm_c=normalize('NFC',ohm)\n",
    "name(ohm_c)#没有显示出那个符号"
   ]
  },
  {
   "cell_type": "code",
   "execution_count": 38,
   "metadata": {},
   "outputs": [
    {
     "data": {
      "text/plain": [
       "'Ω'"
      ]
     },
     "execution_count": 38,
     "metadata": {},
     "output_type": "execute_result"
    }
   ],
   "source": [
    "ohm"
   ]
  },
  {
   "cell_type": "code",
   "execution_count": 44,
   "metadata": {},
   "outputs": [
    {
     "ename": "UnicodeEncodeError",
     "evalue": "'gbk' codec can't encode character '\\u2126' in position 0: illegal multibyte sequence",
     "output_type": "error",
     "traceback": [
      "\u001b[0;31m---------------------------------------------------------------------------\u001b[0m",
      "\u001b[0;31mUnicodeEncodeError\u001b[0m                        Traceback (most recent call last)",
      "\u001b[0;32m<ipython-input-44-8c9dc16239c8>\u001b[0m in \u001b[0;36m<module>\u001b[0;34m()\u001b[0m\n\u001b[0;32m----> 1\u001b[0;31m \u001b[0mohm_\u001b[0m\u001b[0;34m=\u001b[0m\u001b[0mbytes\u001b[0m\u001b[0;34m(\u001b[0m\u001b[0mohm\u001b[0m\u001b[0;34m,\u001b[0m\u001b[0mencoding\u001b[0m\u001b[0;34m=\u001b[0m\u001b[0;34m'gbk'\u001b[0m\u001b[0;34m)\u001b[0m\u001b[0;34m\u001b[0m\u001b[0m\n\u001b[0m",
      "\u001b[0;31mUnicodeEncodeError\u001b[0m: 'gbk' codec can't encode character '\\u2126' in position 0: illegal multibyte sequence"
     ]
    }
   ],
   "source": [
    "ohm_=bytes(ohm,encoding='gbk')\n",
    "'''---------------------------------------------------------------------------\n",
    "UnicodeEncodeError                        Traceback (most recent call last)\n",
    "<ipython-input-44-8c9dc16239c8> in <module>()\n",
    "----> 1 ohm_=bytes(ohm,encoding='gbk')\n",
    "\n",
    "UnicodeEncodeError: 'gbk' codec can't encode character '\\u2126' in position 0: illegal multibyte sequence\n",
    "-------------------------------------------------------------------------------'''\n"
   ]
  },
  {
   "cell_type": "code",
   "execution_count": 40,
   "metadata": {},
   "outputs": [],
   "source": [
    "ohm_cc=str(ohm_,encoding='cp1252')#'â„¦'"
   ]
  },
  {
   "cell_type": "code",
   "execution_count": 43,
   "metadata": {},
   "outputs": [
    {
     "data": {
      "text/plain": [
       "b'\\xe2\\x84\\xa6'"
      ]
     },
     "execution_count": 43,
     "metadata": {},
     "output_type": "execute_result"
    }
   ],
   "source": [
    "ohm_"
   ]
  },
  {
   "cell_type": "markdown",
   "metadata": {},
   "source": [
    "\n",
    "---\n",
    "### GBK是在国家标准GB2312基础上扩容后兼容GB2312的标准（好像还不是国家标准）。GBK编码专门用来解决中文编码的，是双字节的。不论中英文都是双字节的。\n",
    "UTF－8 编码是用以解决国际上字符的一种多字节编码， **它对英文使用8位（即一个字节），中文使用24位（三个字节）来编码。**对于英文字符较多的论坛则用UTF－8 节省空间。另外，如果是外国人访问你的GBK网页，需要下载中文语言包支持。访问UTF-8编码的网页则不出现这问题。可以直接访问。\n",
    "\n",
    "## *GBK包含全部中文字符；UTF-8则包含全世界所有国家需要用到的字符。*\n",
    "\n",
    "# 如果你主要做中文程序的开发，客户也主要是中国人的话就用GBK吧，\n",
    "> 因为UTF-8编码的中文使用了三个字节，用GBK节省了空间。\n",
    "\n",
    "# 如果做英文网站开发，还是用utf-8吧，因为utf-8中英文只占一个字节。\n",
    ">GBK中英文也是两个字节的，并且国外客户访问GBK要下载语言包。\n",
    "如果你的网站是中文的，但国外用户也不少，最好也用UTF-8的吧。\n",
    "\n",
    " \n",
    "\n",
    "___UTF-8编码的文字可以在各国各种支持UTF8字符集的浏览器上显示。___\n",
    "\n",
    "比如，如果是UTF8编码，则在外国人的英文IE上也能显示中文，而无需他们下载IE的中文语言支持包。 所以，对于英文比较多的论坛 ，使用GBK则每个字符占用2个字节，而使用UTF－8英文却只占一个字节。\n",
    "UTF8是国际编码，它的通用性比较好，外国人也可以浏览论坛，GBK是国家编码，通用性比UTF8差，不过UTF8占用的数据库比GBK大~\n"
   ]
  },
  {
   "cell_type": "code",
   "execution_count": 49,
   "metadata": {},
   "outputs": [],
   "source": [
    "half='\\u00BD'"
   ]
  },
  {
   "cell_type": "code",
   "execution_count": 50,
   "metadata": {},
   "outputs": [
    {
     "data": {
      "text/plain": [
       "'½'"
      ]
     },
     "execution_count": 50,
     "metadata": {},
     "output_type": "execute_result"
    }
   ],
   "source": [
    "half"
   ]
  },
  {
   "cell_type": "code",
   "execution_count": 51,
   "metadata": {},
   "outputs": [
    {
     "data": {
      "text/plain": [
       "'1⁄2'"
      ]
     },
     "execution_count": 51,
     "metadata": {},
     "output_type": "execute_result"
    }
   ],
   "source": [
    "normalize('NFKC',half)"
   ]
  },
  {
   "cell_type": "code",
   "execution_count": 52,
   "metadata": {},
   "outputs": [],
   "source": [
    "micro='\\u00B5'"
   ]
  },
  {
   "cell_type": "code",
   "execution_count": 55,
   "metadata": {},
   "outputs": [
    {
     "data": {
      "text/plain": [
       "'μ'"
      ]
     },
     "execution_count": 55,
     "metadata": {},
     "output_type": "execute_result"
    }
   ],
   "source": [
    "micro_kc=normalize('NFKC',micro)\n",
    "micro_kc"
   ]
  },
  {
   "cell_type": "code",
   "execution_count": 56,
   "metadata": {},
   "outputs": [
    {
     "data": {
      "text/plain": [
       "(181, 956)"
      ]
     },
     "execution_count": 56,
     "metadata": {},
     "output_type": "execute_result"
    }
   ],
   "source": [
    "ord(micro),ord(micro_kc)"
   ]
  },
  {
   "cell_type": "code",
   "execution_count": 57,
   "metadata": {},
   "outputs": [
    {
     "data": {
      "text/plain": [
       "('MICRO SIGN', 'GREEK SMALL LETTER MU')"
      ]
     },
     "execution_count": 57,
     "metadata": {},
     "output_type": "execute_result"
    }
   ],
   "source": [
    "name(micro),name(micro_kc)"
   ]
  },
  {
   "cell_type": "markdown",
   "metadata": {},
   "source": [
    "## __这里要注意这个NFKC可能会出现歧义,只能在特殊场合下使用(什么特殊场合),在索引和搜索下使用, **不能用于持久化储存,因为转换会导致歧义造成内容缺失.**__\n"
   ]
  },
  {
   "cell_type": "markdown",
   "metadata": {},
   "source": [
    "# _4.6.1_ \n",
    "## str.casefolds() 与 str.lower() 有什么区别\n",
    "___\n",
    "##  两个例外:'μ' 与 德语中的eszett 会发生改变, _注意使用_\n",
    "\n",
    "> ## 一般情况,注意使用NFC 与NFD,不区分大小写尽量使用str.casefold()\n",
    "\n",
    "\n",
    "\n",
    "\n"
   ]
  },
  {
   "cell_type": "code",
   "execution_count": 62,
   "metadata": {},
   "outputs": [
    {
     "data": {
      "text/plain": [
       "('café', 'café')"
      ]
     },
     "execution_count": 62,
     "metadata": {},
     "output_type": "execute_result"
    }
   ],
   "source": [
    "s1,s2"
   ]
  },
  {
   "cell_type": "code",
   "execution_count": 73,
   "metadata": {},
   "outputs": [
    {
     "data": {
      "text/plain": [
       "(True, True)"
      ]
     },
     "execution_count": 73,
     "metadata": {},
     "output_type": "execute_result"
    }
   ],
   "source": [
    "def nfc_equal(str1,str2):\n",
    "    return normalize('NFC',str1)==normalize('NFC',str2)\n",
    "\n",
    "def fold_equal(str1,str2):\n",
    "    return (normalize('NFC',str1).casefold()==normalize('NFC',str2).casefold())\n",
    "\n",
    "fold_equal(s1,s2),fold_equal('s','S')"
   ]
  },
  {
   "cell_type": "markdown",
   "metadata": {},
   "source": [
    "## 极端标记符号\n"
   ]
  },
  {
   "cell_type": "code",
   "execution_count": 74,
   "metadata": {},
   "outputs": [],
   "source": [
    "import unicodedata\n",
    "import string\n",
    "\n",
    "def shave_marks(txt):\n",
    "    norm_txt=unicodedata.normalize('NFD',txt)#把所有的字符分解为基字符和组合记号\n",
    "    \n",
    "    shaved=''.join(c for c in norm_txt if not unicodedata.combining(c))#过滤掉所有的组合字符\n",
    "    \n",
    "    return unicodedata.normalize('NFC',shaved)#充足所有的字符\n"
   ]
  },
  {
   "cell_type": "code",
   "execution_count": 76,
   "metadata": {},
   "outputs": [
    {
     "data": {
      "text/plain": [
       "'OAOU½A±¾ºIÆcafeaEuµØ·½µAIc up ØEa×O·u'"
      ]
     },
     "execution_count": 76,
     "metadata": {},
     "output_type": "execute_result"
    }
   ],
   "source": [
    "order='ÓÃÔÚ½Å±¾ºÍÆcafeäËûµØ·½µÄÌc up ØÊâ×Ö·û'\n",
    "shave_marks(order)"
   ]
  },
  {
   "cell_type": "code",
   "execution_count": 77,
   "metadata": {},
   "outputs": [],
   "source": [
    "def shave_marks_latin(txt):\n",
    "    '''吧拉丁集字符中的变音符号全部删除'''\n",
    "    norm_txt=unicodedata.normalize('NFD',txt)#把所有字符分解陈集字符和组合字符\n",
    "    latin_base=False\n",
    "    keepers=[]\n",
    "    for c in norm_txt:\n",
    "        if unicodedata.combining(c) and latin_base:#基字符为拉丁时,跳过组合子份\n",
    "            continue#忽略拉丁字符上的变音符号\n",
    "        keepers.append(c)#否则保存当前字符\n",
    "        #如果不是组合字符,那就是新的基字符\n",
    "        if not unicodedata.combining(c):\n",
    "            latin_base=c in string.ascii_letters\n",
    "    shaved=''.join(keepers)\n",
    "    return unicodedata.normalize('NFC',shaved)#重组所有的字符\n"
   ]
  },
  {
   "cell_type": "code",
   "execution_count": 79,
   "metadata": {},
   "outputs": [],
   "source": [
    "single_map = str.maketrans(\"\"\"‚ƒ„†ˆ‹‘’“”•–—˜›\"\"\",  # 重建字符替换影射表\n",
    "                           \"\"\"'f\"*^<''\"\"---~>\"\"\")\n",
    "\n",
    "multi_map = str.maketrans({  # 构建字符替换字符串的影射表\n",
    "    '€': '<euro>',\n",
    "    '…': '...',\n",
    "    'Œ': 'OE',\n",
    "    '™': '(TM)',\n",
    "    'œ': 'oe',\n",
    "    '‰': '<per mille>',\n",
    "    '‡': '**',\n",
    "})\n",
    "\n",
    "multi_map.update(single_map)  # 合并两个影射表\n",
    "\n",
    "\n",
    "def dewinize(txt):\n",
    "    \"\"\"把win152的符号替换成ascii字符或者序列\"\"\"\n",
    "    return txt.translate(multi_map)  # dewimize函数不形象ASCII 或者latin1文本,只是一环在CP1252中的的latin1额外添加的字符\n",
    "\n",
    "def asciize(txt):\n",
    "    no_marks = shave_marks_latin(dewinize(txt))     # 调用dewinize函数,去调变音符号\n",
    "    \n",
    "    no_marks = no_marks.replace('ß', 'ss')          # 把这个像贝塔一样的字符替换成 ss \n",
    "    \n",
    "    return unicodedata.normalize('NFKC', no_marks) # 使用标准化吧字符和与之兼容的码位组合起来"
   ]
  },
  {
   "cell_type": "code",
   "execution_count": 80,
   "metadata": {},
   "outputs": [],
   "source": [
    "order = 'Herr Voß: • ½ cup of Œtker™ caffè latte • bowl of açaí.'"
   ]
  },
  {
   "cell_type": "code",
   "execution_count": 81,
   "metadata": {},
   "outputs": [
    {
     "data": {
      "text/plain": [
       "'\"Herr Voß: - ½ cup of OEtker(TM) caffè latte - bowl of açaí.\"'"
      ]
     },
     "execution_count": 81,
     "metadata": {},
     "output_type": "execute_result"
    }
   ],
   "source": [
    "dewinize(order)"
   ]
  },
  {
   "cell_type": "code",
   "execution_count": 82,
   "metadata": {},
   "outputs": [
    {
     "data": {
      "text/plain": [
       "'\"Herr Voss: - 1⁄2 cup of OEtker(TM) caffe latte - bowl of acai.\"'"
      ]
     },
     "execution_count": 82,
     "metadata": {},
     "output_type": "execute_result"
    }
   ],
   "source": [
    "asciize(order)"
   ]
  },
  {
   "cell_type": "markdown",
   "metadata": {},
   "source": [
    "## 4.7 Unicode 文本排序\n",
    "\n",
    "> ### python 比较任何类型的序列时,会一一比较序列里的各个元素,对于字符传来说比较的是玛位 \n",
    "> ## 但是在比较ASCII 的时候,得道的结果不一定会很理想"
   ]
  },
  {
   "cell_type": "code",
   "execution_count": 83,
   "metadata": {},
   "outputs": [
    {
     "data": {
      "text/plain": [
       "['acai', 'acerola', 'acju', 'atemoia', 'caja']"
      ]
     },
     "execution_count": 83,
     "metadata": {},
     "output_type": "execute_result"
    }
   ],
   "source": [
    "fruits=['acju','atemoia','caja','acai','acerola']\n",
    "sorted(fruits)"
   ]
  },
  {
   "cell_type": "code",
   "execution_count": 90,
   "metadata": {},
   "outputs": [
    {
     "data": {
      "text/plain": [
       "['acai', 'acerola', 'acju', 'atemoia', 'caja']"
      ]
     },
     "execution_count": 90,
     "metadata": {},
     "output_type": "execute_result"
    }
   ],
   "source": [
    "locale.setlocale(locale.LC_COLLATE,'pt_BR.UTF-8')\n",
    "sorted_fruits=sorted(fruits,key=locale.strxfrm)\n",
    "sorted_fruits"
   ]
  },
  {
   "cell_type": "markdown",
   "metadata": {},
   "source": [
    "# 化重点注意事项:\n",
    "*   1.区域设置时全局的,所以不推荐在库中调用setlocale函数.\n",
    "* 2.操作系统必须先支持区域设置\n",
    "* 3.必须知道如何拼写区域的名字\n",
    "* 4.在UNIX 中要通过'language_code.encoding'获取\n",
    "* 5.操作系统中的制作者必须正确实现所设的区域"
   ]
  },
  {
   "cell_type": "code",
   "execution_count": 94,
   "metadata": {},
   "outputs": [
    {
     "data": {
      "text/plain": [
       "['acai', 'acerola', 'acju', 'atemoia', 'caja']"
      ]
     },
     "execution_count": 94,
     "metadata": {},
     "output_type": "execute_result"
    }
   ],
   "source": [
    "import pyuca\n",
    "coll=pyuca.Collator()\n",
    "sorted_fruits=sorted(fruits,key=coll.sort_key)\n",
    "sorted_fruits\n",
    "\n"
   ]
  },
  {
   "cell_type": "markdown",
   "metadata": {},
   "source": [
    "# 4.8 Unicode 数据库\n",
    "\n",
    "> * ## 一些判断字符串是不是字母,数字,其他数值符号的"
   ]
  },
  {
   "cell_type": "code",
   "execution_count": 104,
   "metadata": {
    "scrolled": true
   },
   "outputs": [
    {
     "name": "stdout",
     "output_type": "stream",
     "text": [
      "U+0031\t         1          \tre_dig\tisdig\tisnum\t 1.00\tDIGIT ONE\n",
      "U+00bc\t         ¼          \t-\t-\tisnum\t 0.25\tVULGAR FRACTION ONE QUARTER\n",
      "U+00b2\t         ²          \t-\tisdig\tisnum\t 2.00\tSUPERSCRIPT TWO\n",
      "U+0969\t         ३          \tre_dig\tisdig\tisnum\t 3.00\tDEVANAGARI DIGIT THREE\n",
      "U+136b\t         ፫          \t-\tisdig\tisnum\t 3.00\tETHIOPIC DIGIT THREE\n",
      "U+216b\t         Ⅻ          \t-\t-\tisnum\t12.00\tROMAN NUMERAL TWELVE\n",
      "U+2466\t         ⑦          \t-\tisdig\tisnum\t 7.00\tCIRCLED DIGIT SEVEN\n",
      "U+2480\t         ⒀          \t-\t-\tisnum\t13.00\tPARENTHESIZED NUMBER THIRTEEN\n",
      "U+3285\t         ㊅          \t-\t-\tisnum\t 6.00\tCIRCLED IDEOGRAPH SIX\n"
     ]
    }
   ],
   "source": [
    "import unicodedata\n",
    "import re\n",
    "\n",
    "re_digit=re.compile(r'\\d')\n",
    "\n",
    "sample='1\\xbc\\xb2\\u0969\\u136b\\u216b\\u2466\\u2480\\u3285'\n",
    "\n",
    "for char in sample:\n",
    "    print ('U+%04x'%ord(char),\n",
    "           char.center(20),#长度为6的字符串剧中现实字符\n",
    "           're_dig'if re_digit.match(char) else '-',\n",
    "           'isdig' if char.isdigit() else '-',\n",
    "           'isnum' if char.isnumeric() else '-',\n",
    "           format(unicodedata.numeric(char),'5.2f'),\n",
    "           unicodedata.name(char),\n",
    "           sep='\\t'\n",
    "          )\n",
    "    \n",
    "        "
   ]
  },
  {
   "cell_type": "markdown",
   "metadata": {},
   "source": [
    "# 4.9 支持字符串和字节序列的双模式API\n",
    "* ## 4.9.1 正则表达式中的字符串和字节序列\n",
    "> ## 使用字节序列构建的正则表达式, \\d \\w 等只能匹配ASCII字符串;相比之下,如果式字符串模式下的,就可以匹配ASCII之外的UNICODE."
   ]
  },
  {
   "cell_type": "code",
   "execution_count": 109,
   "metadata": {},
   "outputs": [
    {
     "name": "stdout",
     "output_type": "stream",
     "text": [
      "Text\n",
      "'Ramanujan saw  ௧௭௨௯as 1729= ........'\n",
      "Numbers\n",
      " str  ['௧௭௨௯', '1729']\n",
      " bytes : [b'1729']\n",
      "word\n",
      " str  ['Ramanujan', 'saw', '௧௭௨௯as', '1729']\n",
      " bytes : [b'Ramanujan', b'saw', b'as', b'1729']\n"
     ]
    }
   ],
   "source": [
    "import re\n",
    "\n",
    "re_numbers_str=re.compile(r'\\d+')\n",
    "re_words_str=re.compile(r'\\w+')\n",
    "re_numbers_bytes=re.compile(rb'\\d+')\n",
    "re_words_bytes=re.compile(rb'\\w+')\n",
    "\n",
    "text_str=('Ramanujan saw  \\u0be7\\u0bed\\u0be8\\u0bef'\n",
    "          'as 1729= ........')\n",
    "\n",
    "text_bytes=text_str.encode('utf8')\n",
    "\n",
    "print ('Text',repr(text_str),sep='\\n')\n",
    "\n",
    "print ('Numbers')\n",
    "\n",
    "print (' str ',re_numbers_str.findall(text_str))\n",
    "\n",
    "print (' bytes :',re_numbers_bytes.findall(text_bytes))\n",
    "\n",
    "print  ('word')\n",
    "\n",
    "print (' str ',re_words_str.findall(text_str))#这里和书上不一样???\n",
    "\n",
    "print (' bytes :',re_words_bytes.findall(text_bytes))\n"
   ]
  },
  {
   "cell_type": "markdown",
   "metadata": {},
   "source": [
    "#  第五章 一等函数\n",
    "* ## 在运行式创建\n",
    "* ## 能付值给变量\n",
    "* ## 能作为参数传给函数\n",
    "* ## 能作为函数的返回结果\n",
    "> * ## 5.1 把函数时为对象\n",
    "\n",
    "\n",
    "\n"
   ]
  },
  {
   "cell_type": "code",
   "execution_count": 113,
   "metadata": {},
   "outputs": [
    {
     "data": {
      "text/plain": [
       "120"
      ]
     },
     "execution_count": 113,
     "metadata": {},
     "output_type": "execute_result"
    }
   ],
   "source": [
    "def factorial(n):\n",
    "    '''return n!'''\n",
    "    return 1 if n<2 else n*factorial(n-1)\n",
    "\n",
    "factorial(5)"
   ]
  },
  {
   "cell_type": "code",
   "execution_count": 115,
   "metadata": {},
   "outputs": [
    {
     "data": {
      "text/plain": [
       "'return n!'"
      ]
     },
     "execution_count": 115,
     "metadata": {},
     "output_type": "execute_result"
    }
   ],
   "source": [
    "factorial.__doc__#不能callable"
   ]
  },
  {
   "cell_type": "code",
   "execution_count": 117,
   "metadata": {},
   "outputs": [
    {
     "data": {
      "text/plain": [
       "<function __main__.factorial>"
      ]
     },
     "execution_count": 117,
     "metadata": {},
     "output_type": "execute_result"
    }
   ],
   "source": [
    "fact=factorial\n",
    "fact"
   ]
  },
  {
   "cell_type": "code",
   "execution_count": 120,
   "metadata": {},
   "outputs": [
    {
     "data": {
      "text/plain": [
       "[1, 1, 2, 6, 24, 120, 720, 5040, 40320, 362880, 3628800]"
      ]
     },
     "execution_count": 120,
     "metadata": {},
     "output_type": "execute_result"
    }
   ],
   "source": [
    "a=map(fact,range(11))\n",
    "list(a)"
   ]
  },
  {
   "cell_type": "code",
   "execution_count": 122,
   "metadata": {},
   "outputs": [
    {
     "data": {
      "text/plain": [
       "['acju', 'caja', 'acai', 'atemoia', 'acerola']"
      ]
     },
     "execution_count": 122,
     "metadata": {},
     "output_type": "execute_result"
    }
   ],
   "source": [
    "sorted(fruits,key=len)#任何单参数的函数都能作为key参数的值"
   ]
  },
  {
   "cell_type": "code",
   "execution_count": 123,
   "metadata": {},
   "outputs": [
    {
     "data": {
      "text/plain": [
       "'fefaet'"
      ]
     },
     "execution_count": 123,
     "metadata": {},
     "output_type": "execute_result"
    }
   ],
   "source": [
    "def reverse(word):\n",
    "    return word[::-1]\n",
    "reverse('teafef')"
   ]
  },
  {
   "cell_type": "code",
   "execution_count": 124,
   "metadata": {},
   "outputs": [
    {
     "data": {
      "text/plain": [
       "['atemoia', 'caja', 'acerola', 'acai', 'acju']"
      ]
     },
     "execution_count": 124,
     "metadata": {},
     "output_type": "execute_result"
    }
   ],
   "source": [
    "sorted(fruits,key=reverse)"
   ]
  },
  {
   "cell_type": "markdown",
   "metadata": {},
   "source": [
    "## apply 在python 3 中已经被移出\n",
    "> # map ,filter reduce 的现代替代品"
   ]
  },
  {
   "cell_type": "code",
   "execution_count": null,
   "metadata": {},
   "outputs": [],
   "source": []
  }
 ],
 "metadata": {
  "kernelspec": {
   "display_name": "Python 3",
   "language": "python",
   "name": "python3"
  },
  "language_info": {
   "codemirror_mode": {
    "name": "ipython",
    "version": 3
   },
   "file_extension": ".py",
   "mimetype": "text/x-python",
   "name": "python",
   "nbconvert_exporter": "python",
   "pygments_lexer": "ipython3",
   "version": "3.6.3"
  }
 },
 "nbformat": 4,
 "nbformat_minor": 2
}
